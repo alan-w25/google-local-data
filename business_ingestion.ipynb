{
 "cells": [
  {
   "cell_type": "markdown",
   "metadata": {},
   "source": [
    "<h1>Ingestion On Businesses and Category</h1>"
   ]
  },
  {
   "cell_type": "markdown",
   "metadata": {},
   "source": [
    "Our Goal in this Notebook: \n",
    "\n",
    "1. Ingest data from the google local data PA metadata \n",
    "1. Upload a csv format of this metadata and the categories data"
   ]
  },
  {
   "cell_type": "code",
   "execution_count": 1,
   "metadata": {},
   "outputs": [],
   "source": [
    "import pandas as pd \n",
    "import numpy as np \n",
    "import json \n",
    "import os\n"
   ]
  },
  {
   "cell_type": "code",
   "execution_count": 3,
   "metadata": {},
   "outputs": [],
   "source": [
    "raw_data_path = '../data/google/meta-Pennsylvania.json'"
   ]
  },
  {
   "cell_type": "markdown",
   "metadata": {},
   "source": [
    "## Ingest Categories"
   ]
  },
  {
   "cell_type": "code",
   "execution_count": 5,
   "metadata": {},
   "outputs": [],
   "source": [
    "def process_category_data(raw_data_path): \n",
    "    data_list = [] \n",
    "    #process the data\n",
    "    with open(raw_data_path, 'r') as f: \n",
    "        for line in f: \n",
    "            #load the line\n",
    "            data = json.loads(line) \n",
    "            #load the category\n",
    "            categories = data['category']\n",
    "            #if the category is empty, append None\n",
    "            if not categories: \n",
    "                continue\n",
    "            #if the category is not empty, append the category to the list\n",
    "            for category in categories: \n",
    "                data_list.append([data['gmap_id'], category])\n",
    "    df = pd.DataFrame(data_list, columns=['gmap_id', 'category'])\n",
    "    return df"
   ]
  },
  {
   "cell_type": "code",
   "execution_count": 6,
   "metadata": {},
   "outputs": [],
   "source": [
    "df_categories = process_category_data(raw_data_path)"
   ]
  },
  {
   "cell_type": "code",
   "execution_count": 7,
   "metadata": {},
   "outputs": [
    {
     "data": {
      "text/html": [
       "<div>\n",
       "<style scoped>\n",
       "    .dataframe tbody tr th:only-of-type {\n",
       "        vertical-align: middle;\n",
       "    }\n",
       "\n",
       "    .dataframe tbody tr th {\n",
       "        vertical-align: top;\n",
       "    }\n",
       "\n",
       "    .dataframe thead th {\n",
       "        text-align: right;\n",
       "    }\n",
       "</style>\n",
       "<table border=\"1\" class=\"dataframe\">\n",
       "  <thead>\n",
       "    <tr style=\"text-align: right;\">\n",
       "      <th></th>\n",
       "      <th>gmap_id</th>\n",
       "      <th>category</th>\n",
       "    </tr>\n",
       "  </thead>\n",
       "  <tbody>\n",
       "    <tr>\n",
       "      <th>0</th>\n",
       "      <td>0x89c46d5e4554eae1:0xa2f8b211524ca29a</td>\n",
       "      <td>Pizza delivery</td>\n",
       "    </tr>\n",
       "    <tr>\n",
       "      <th>1</th>\n",
       "      <td>0x89c48c790b767ec7:0x1943c20a42196a68</td>\n",
       "      <td>HVAC contractor</td>\n",
       "    </tr>\n",
       "    <tr>\n",
       "      <th>2</th>\n",
       "      <td>0x89c48c790b767ec7:0x1943c20a42196a68</td>\n",
       "      <td>Air conditioning contractor</td>\n",
       "    </tr>\n",
       "    <tr>\n",
       "      <th>3</th>\n",
       "      <td>0x89c48c790b767ec7:0x1943c20a42196a68</td>\n",
       "      <td>Air conditioning repair service</td>\n",
       "    </tr>\n",
       "    <tr>\n",
       "      <th>4</th>\n",
       "      <td>0x89c48c790b767ec7:0x1943c20a42196a68</td>\n",
       "      <td>Air duct cleaning service</td>\n",
       "    </tr>\n",
       "  </tbody>\n",
       "</table>\n",
       "</div>"
      ],
      "text/plain": [
       "                                 gmap_id                         category\n",
       "0  0x89c46d5e4554eae1:0xa2f8b211524ca29a                   Pizza delivery\n",
       "1  0x89c48c790b767ec7:0x1943c20a42196a68                  HVAC contractor\n",
       "2  0x89c48c790b767ec7:0x1943c20a42196a68      Air conditioning contractor\n",
       "3  0x89c48c790b767ec7:0x1943c20a42196a68  Air conditioning repair service\n",
       "4  0x89c48c790b767ec7:0x1943c20a42196a68        Air duct cleaning service"
      ]
     },
     "execution_count": 7,
     "metadata": {},
     "output_type": "execute_result"
    }
   ],
   "source": [
    "df_categories.head()"
   ]
  },
  {
   "cell_type": "code",
   "execution_count": 8,
   "metadata": {},
   "outputs": [
    {
     "data": {
      "text/html": [
       "<div>\n",
       "<style scoped>\n",
       "    .dataframe tbody tr th:only-of-type {\n",
       "        vertical-align: middle;\n",
       "    }\n",
       "\n",
       "    .dataframe tbody tr th {\n",
       "        vertical-align: top;\n",
       "    }\n",
       "\n",
       "    .dataframe thead th {\n",
       "        text-align: right;\n",
       "    }\n",
       "</style>\n",
       "<table border=\"1\" class=\"dataframe\">\n",
       "  <thead>\n",
       "    <tr style=\"text-align: right;\">\n",
       "      <th></th>\n",
       "      <th>gmap_id</th>\n",
       "      <th>category</th>\n",
       "    </tr>\n",
       "  </thead>\n",
       "  <tbody>\n",
       "    <tr>\n",
       "      <th>count</th>\n",
       "      <td>428166</td>\n",
       "      <td>428166</td>\n",
       "    </tr>\n",
       "    <tr>\n",
       "      <th>unique</th>\n",
       "      <td>188950</td>\n",
       "      <td>3484</td>\n",
       "    </tr>\n",
       "    <tr>\n",
       "      <th>top</th>\n",
       "      <td>0x89c6b24cc647a23f:0x6ddc895d0ab4520f</td>\n",
       "      <td>Restaurant</td>\n",
       "    </tr>\n",
       "    <tr>\n",
       "      <th>freq</th>\n",
       "      <td>20</td>\n",
       "      <td>11801</td>\n",
       "    </tr>\n",
       "  </tbody>\n",
       "</table>\n",
       "</div>"
      ],
      "text/plain": [
       "                                      gmap_id    category\n",
       "count                                  428166      428166\n",
       "unique                                 188950        3484\n",
       "top     0x89c6b24cc647a23f:0x6ddc895d0ab4520f  Restaurant\n",
       "freq                                       20       11801"
      ]
     },
     "execution_count": 8,
     "metadata": {},
     "output_type": "execute_result"
    }
   ],
   "source": [
    "df_categories.describe()"
   ]
  },
  {
   "cell_type": "code",
   "execution_count": 9,
   "metadata": {},
   "outputs": [],
   "source": [
    "df_categories.to_csv('../data/google/pa_categories.csv', index=False)"
   ]
  },
  {
   "cell_type": "markdown",
   "metadata": {},
   "source": [
    "## Ingest Businesses"
   ]
  },
  {
   "cell_type": "code",
   "execution_count": 4,
   "metadata": {},
   "outputs": [],
   "source": [
    "def process_business_data(raw_data_path): \n",
    "    data_list = [] \n",
    "    with open(raw_data_path, 'r') as f: \n",
    "        for line in f: \n",
    "            #load the line\n",
    "            data = json.loads(line) \n",
    "            #load the features \n",
    "            if not data: \n",
    "                continue\n",
    "        \n",
    "            gmap_id = data['gmap_id'] #primary key\n",
    "            address = data['address'] #string\n",
    "            description =  data['description'] if data['description'] else None #string or none\n",
    "            latitude =  data['latitude'] #float\n",
    "            longitude = data['longitude'] #float\n",
    "            avg_rating = data['avg_rating'] if data['avg_rating'] else None #float or none\n",
    "            price = data['price'] if data['price'] else None #string\n",
    "            num_reviews = data['num_of_reviews'] if data['num_of_reviews'] else 0\n",
    "            \n",
    "            data_list.append([gmap_id, address, description, latitude, longitude, avg_rating, price, num_reviews])\n",
    "    df = pd.DataFrame(data_list, columns=['gmap_id', 'address', 'description', 'latitude', 'longitude', 'avg_rating', 'price', 'num_reviews'])\n",
    "    return df"
   ]
  },
  {
   "cell_type": "code",
   "execution_count": 5,
   "metadata": {},
   "outputs": [],
   "source": [
    "df_businesses = process_business_data(raw_data_path)"
   ]
  },
  {
   "cell_type": "code",
   "execution_count": 7,
   "metadata": {},
   "outputs": [],
   "source": [
    "df_businesses.to_csv('../data/google/pa_businesses.csv', index=False)"
   ]
  }
 ],
 "metadata": {
  "kernelspec": {
   "display_name": "Python 3",
   "language": "python",
   "name": "python3"
  },
  "language_info": {
   "codemirror_mode": {
    "name": "ipython",
    "version": 3
   },
   "file_extension": ".py",
   "mimetype": "text/x-python",
   "name": "python",
   "nbconvert_exporter": "python",
   "pygments_lexer": "ipython3",
   "version": "3.10.4"
  }
 },
 "nbformat": 4,
 "nbformat_minor": 2
}
