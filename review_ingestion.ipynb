{
 "cells": [
  {
   "cell_type": "markdown",
   "metadata": {},
   "source": [
    "<h1>Google Pennsylvania Review Ingestion</h1>"
   ]
  },
  {
   "cell_type": "code",
   "execution_count": 2,
   "metadata": {},
   "outputs": [],
   "source": [
    "import pandas as pd \n",
    "import numpy as np \n",
    "import json \n",
    "import uuid\n",
    "from datetime import datetime"
   ]
  },
  {
   "cell_type": "markdown",
   "metadata": {},
   "source": [
    "## Ingest Review Data and turn into CSV"
   ]
  },
  {
   "cell_type": "code",
   "execution_count": 6,
   "metadata": {},
   "outputs": [],
   "source": [
    "raw_data_path = './data/review-Pennsylvania_10.json'"
   ]
  },
  {
   "cell_type": "code",
   "execution_count": 7,
   "metadata": {},
   "outputs": [],
   "source": [
    "def ingest_reviews_data(reviews_path): \n",
    "    data_list = [] \n",
    "    with open(reviews_path, 'r') as f: \n",
    "        print(\"Starting Ingestion\")\n",
    "        for line in f: \n",
    "            data = json.loads(line)\n",
    "            if not data: \n",
    "                continue\n",
    "            review_id = uuid.uuid4()\n",
    "            gmap_id = data['gmap_id']\n",
    "            rating = data['rating']\n",
    "            pics = data['pics']\n",
    "            user_id = data['user_id']\n",
    "            name = data['name'] \n",
    "            time_unix =  data['time'] \n",
    "            rating = data['rating']\n",
    "            text = data['text'] \n",
    "            \n",
    "            #convert timestamp to seconds datetime\n",
    "            time = datetime.fromtimestamp(time_unix/1000) if time_unix else None\n",
    "            data_list.append([review_id, gmap_id, rating, pics, user_id, name, time, text])\n",
    "        print(\"Finished Ingestion\")\n",
    "    df = pd.DataFrame(data_list, columns=['review_id', 'gmap_id', 'rating', 'pics', 'user_id', 'name', 'time', 'text'])\n",
    "    return df \n"
   ]
  },
  {
   "cell_type": "code",
   "execution_count": 8,
   "metadata": {},
   "outputs": [
    {
     "name": "stdout",
     "output_type": "stream",
     "text": [
      "Starting Ingestion\n",
      "Finished Ingestion\n"
     ]
    }
   ],
   "source": [
    "df_reviews = ingest_reviews_data(raw_data_path)"
   ]
  },
  {
   "cell_type": "code",
   "execution_count": 11,
   "metadata": {},
   "outputs": [
    {
     "data": {
      "text/html": [
       "<div>\n",
       "<style scoped>\n",
       "    .dataframe tbody tr th:only-of-type {\n",
       "        vertical-align: middle;\n",
       "    }\n",
       "\n",
       "    .dataframe tbody tr th {\n",
       "        vertical-align: top;\n",
       "    }\n",
       "\n",
       "    .dataframe thead th {\n",
       "        text-align: right;\n",
       "    }\n",
       "</style>\n",
       "<table border=\"1\" class=\"dataframe\">\n",
       "  <thead>\n",
       "    <tr style=\"text-align: right;\">\n",
       "      <th></th>\n",
       "      <th>review_id</th>\n",
       "      <th>gmap_id</th>\n",
       "      <th>rating</th>\n",
       "      <th>pics</th>\n",
       "      <th>user_id</th>\n",
       "      <th>name</th>\n",
       "      <th>time</th>\n",
       "      <th>text</th>\n",
       "    </tr>\n",
       "  </thead>\n",
       "  <tbody>\n",
       "    <tr>\n",
       "      <th>0</th>\n",
       "      <td>b05994c1-edfd-4375-b9c8-1aa60f929eb0</td>\n",
       "      <td>0x89c6c63c8cd87141:0x54d0d283872eecbb</td>\n",
       "      <td>5</td>\n",
       "      <td>None</td>\n",
       "      <td>104944742559079759337</td>\n",
       "      <td>Jaron Whitfield</td>\n",
       "      <td>2018-02-04 03:09:22.839</td>\n",
       "      <td>Joe is quite unique of his line of work, he as...</td>\n",
       "    </tr>\n",
       "    <tr>\n",
       "      <th>1</th>\n",
       "      <td>e0cbc10b-18d9-48ba-8383-f1e99b34c51c</td>\n",
       "      <td>0x89c6c63c8cd87141:0x54d0d283872eecbb</td>\n",
       "      <td>5</td>\n",
       "      <td>None</td>\n",
       "      <td>117609702832980320437</td>\n",
       "      <td>Jonathan McCarthy</td>\n",
       "      <td>2016-10-12 08:44:51.163</td>\n",
       "      <td>For such a small place their impact on my life...</td>\n",
       "    </tr>\n",
       "    <tr>\n",
       "      <th>2</th>\n",
       "      <td>35a2f2a7-148a-49e2-930c-7cf9367d8c91</td>\n",
       "      <td>0x89c6c63c8cd87141:0x54d0d283872eecbb</td>\n",
       "      <td>5</td>\n",
       "      <td>None</td>\n",
       "      <td>110563242018426632956</td>\n",
       "      <td>Rocky Kev</td>\n",
       "      <td>2012-06-04 12:22:25.578</td>\n",
       "      <td>I usually give them a call before I stop by to...</td>\n",
       "    </tr>\n",
       "    <tr>\n",
       "      <th>3</th>\n",
       "      <td>af853df6-9aa0-430d-acd6-59f553faa47e</td>\n",
       "      <td>0x89c6c63c8cd87141:0x54d0d283872eecbb</td>\n",
       "      <td>5</td>\n",
       "      <td>None</td>\n",
       "      <td>112895973505401399406</td>\n",
       "      <td>Josep Valls</td>\n",
       "      <td>2013-03-14 14:35:10.554</td>\n",
       "      <td>My bike had been sitting outdoors for a good w...</td>\n",
       "    </tr>\n",
       "    <tr>\n",
       "      <th>4</th>\n",
       "      <td>0cf4a38f-88ad-4c69-b0c9-e42016962934</td>\n",
       "      <td>0x89c6c63c8cd87141:0x54d0d283872eecbb</td>\n",
       "      <td>5</td>\n",
       "      <td>None</td>\n",
       "      <td>110619674885963828884</td>\n",
       "      <td>Timaree Schmit</td>\n",
       "      <td>2019-01-29 16:45:29.760</td>\n",
       "      <td>Always an easy experience. Service is knowledg...</td>\n",
       "    </tr>\n",
       "  </tbody>\n",
       "</table>\n",
       "</div>"
      ],
      "text/plain": [
       "                              review_id  \\\n",
       "0  b05994c1-edfd-4375-b9c8-1aa60f929eb0   \n",
       "1  e0cbc10b-18d9-48ba-8383-f1e99b34c51c   \n",
       "2  35a2f2a7-148a-49e2-930c-7cf9367d8c91   \n",
       "3  af853df6-9aa0-430d-acd6-59f553faa47e   \n",
       "4  0cf4a38f-88ad-4c69-b0c9-e42016962934   \n",
       "\n",
       "                                 gmap_id  rating  pics                user_id  \\\n",
       "0  0x89c6c63c8cd87141:0x54d0d283872eecbb       5  None  104944742559079759337   \n",
       "1  0x89c6c63c8cd87141:0x54d0d283872eecbb       5  None  117609702832980320437   \n",
       "2  0x89c6c63c8cd87141:0x54d0d283872eecbb       5  None  110563242018426632956   \n",
       "3  0x89c6c63c8cd87141:0x54d0d283872eecbb       5  None  112895973505401399406   \n",
       "4  0x89c6c63c8cd87141:0x54d0d283872eecbb       5  None  110619674885963828884   \n",
       "\n",
       "                name                    time  \\\n",
       "0    Jaron Whitfield 2018-02-04 03:09:22.839   \n",
       "1  Jonathan McCarthy 2016-10-12 08:44:51.163   \n",
       "2          Rocky Kev 2012-06-04 12:22:25.578   \n",
       "3        Josep Valls 2013-03-14 14:35:10.554   \n",
       "4     Timaree Schmit 2019-01-29 16:45:29.760   \n",
       "\n",
       "                                                text  \n",
       "0  Joe is quite unique of his line of work, he as...  \n",
       "1  For such a small place their impact on my life...  \n",
       "2  I usually give them a call before I stop by to...  \n",
       "3  My bike had been sitting outdoors for a good w...  \n",
       "4  Always an easy experience. Service is knowledg...  "
      ]
     },
     "execution_count": 11,
     "metadata": {},
     "output_type": "execute_result"
    }
   ],
   "source": [
    "df_reviews.head()"
   ]
  },
  {
   "cell_type": "code",
   "execution_count": 12,
   "metadata": {},
   "outputs": [
    {
     "data": {
      "text/html": [
       "<div>\n",
       "<style scoped>\n",
       "    .dataframe tbody tr th:only-of-type {\n",
       "        vertical-align: middle;\n",
       "    }\n",
       "\n",
       "    .dataframe tbody tr th {\n",
       "        vertical-align: top;\n",
       "    }\n",
       "\n",
       "    .dataframe thead th {\n",
       "        text-align: right;\n",
       "    }\n",
       "</style>\n",
       "<table border=\"1\" class=\"dataframe\">\n",
       "  <thead>\n",
       "    <tr style=\"text-align: right;\">\n",
       "      <th></th>\n",
       "      <th>rating</th>\n",
       "      <th>time</th>\n",
       "    </tr>\n",
       "  </thead>\n",
       "  <tbody>\n",
       "    <tr>\n",
       "      <th>count</th>\n",
       "      <td>1.277236e+07</td>\n",
       "      <td>12772358</td>\n",
       "    </tr>\n",
       "    <tr>\n",
       "      <th>mean</th>\n",
       "      <td>4.293200e+00</td>\n",
       "      <td>2019-02-19 10:12:45.293065984</td>\n",
       "    </tr>\n",
       "    <tr>\n",
       "      <th>min</th>\n",
       "      <td>1.000000e+00</td>\n",
       "      <td>1990-12-30 19:00:00</td>\n",
       "    </tr>\n",
       "    <tr>\n",
       "      <th>25%</th>\n",
       "      <td>4.000000e+00</td>\n",
       "      <td>2018-05-03 10:10:00.285250048</td>\n",
       "    </tr>\n",
       "    <tr>\n",
       "      <th>50%</th>\n",
       "      <td>5.000000e+00</td>\n",
       "      <td>2019-03-17 22:27:47.787500032</td>\n",
       "    </tr>\n",
       "    <tr>\n",
       "      <th>75%</th>\n",
       "      <td>5.000000e+00</td>\n",
       "      <td>2019-12-23 20:01:15.136249856</td>\n",
       "    </tr>\n",
       "    <tr>\n",
       "      <th>max</th>\n",
       "      <td>5.000000e+00</td>\n",
       "      <td>2021-09-08 16:37:19.739000</td>\n",
       "    </tr>\n",
       "    <tr>\n",
       "      <th>std</th>\n",
       "      <td>1.062594e+00</td>\n",
       "      <td>NaN</td>\n",
       "    </tr>\n",
       "  </tbody>\n",
       "</table>\n",
       "</div>"
      ],
      "text/plain": [
       "             rating                           time\n",
       "count  1.277236e+07                       12772358\n",
       "mean   4.293200e+00  2019-02-19 10:12:45.293065984\n",
       "min    1.000000e+00            1990-12-30 19:00:00\n",
       "25%    4.000000e+00  2018-05-03 10:10:00.285250048\n",
       "50%    5.000000e+00  2019-03-17 22:27:47.787500032\n",
       "75%    5.000000e+00  2019-12-23 20:01:15.136249856\n",
       "max    5.000000e+00     2021-09-08 16:37:19.739000\n",
       "std    1.062594e+00                            NaN"
      ]
     },
     "execution_count": 12,
     "metadata": {},
     "output_type": "execute_result"
    }
   ],
   "source": [
    "df_reviews.describe()"
   ]
  },
  {
   "cell_type": "code",
   "execution_count": 15,
   "metadata": {},
   "outputs": [],
   "source": [
    "df_reviews.to_csv('./data/ingested/reviews.csv', index=False, escapechar='\\\\')"
   ]
  },
  {
   "cell_type": "markdown",
   "metadata": {},
   "source": [
    "## Process Pics from reviews"
   ]
  },
  {
   "cell_type": "code",
   "execution_count": 17,
   "metadata": {},
   "outputs": [],
   "source": [
    "reviews_df = pd.read_csv('./data/ingested/reviews.csv', escapechar='\\\\')"
   ]
  },
  {
   "cell_type": "code",
   "execution_count": 18,
   "metadata": {},
   "outputs": [
    {
     "data": {
      "text/html": [
       "<div>\n",
       "<style scoped>\n",
       "    .dataframe tbody tr th:only-of-type {\n",
       "        vertical-align: middle;\n",
       "    }\n",
       "\n",
       "    .dataframe tbody tr th {\n",
       "        vertical-align: top;\n",
       "    }\n",
       "\n",
       "    .dataframe thead th {\n",
       "        text-align: right;\n",
       "    }\n",
       "</style>\n",
       "<table border=\"1\" class=\"dataframe\">\n",
       "  <thead>\n",
       "    <tr style=\"text-align: right;\">\n",
       "      <th></th>\n",
       "      <th>review_id</th>\n",
       "      <th>gmap_id</th>\n",
       "      <th>rating</th>\n",
       "      <th>pics</th>\n",
       "      <th>user_id</th>\n",
       "      <th>name</th>\n",
       "      <th>time</th>\n",
       "      <th>text</th>\n",
       "    </tr>\n",
       "  </thead>\n",
       "  <tbody>\n",
       "    <tr>\n",
       "      <th>0</th>\n",
       "      <td>b05994c1-edfd-4375-b9c8-1aa60f929eb0</td>\n",
       "      <td>0x89c6c63c8cd87141:0x54d0d283872eecbb</td>\n",
       "      <td>5</td>\n",
       "      <td>NaN</td>\n",
       "      <td>104944742559079759337</td>\n",
       "      <td>Jaron Whitfield</td>\n",
       "      <td>2018-02-04 03:09:22.839</td>\n",
       "      <td>Joe is quite unique of his line of work, he as...</td>\n",
       "    </tr>\n",
       "    <tr>\n",
       "      <th>1</th>\n",
       "      <td>e0cbc10b-18d9-48ba-8383-f1e99b34c51c</td>\n",
       "      <td>0x89c6c63c8cd87141:0x54d0d283872eecbb</td>\n",
       "      <td>5</td>\n",
       "      <td>NaN</td>\n",
       "      <td>117609702832980320437</td>\n",
       "      <td>Jonathan McCarthy</td>\n",
       "      <td>2016-10-12 08:44:51.163</td>\n",
       "      <td>For such a small place their impact on my life...</td>\n",
       "    </tr>\n",
       "    <tr>\n",
       "      <th>2</th>\n",
       "      <td>35a2f2a7-148a-49e2-930c-7cf9367d8c91</td>\n",
       "      <td>0x89c6c63c8cd87141:0x54d0d283872eecbb</td>\n",
       "      <td>5</td>\n",
       "      <td>NaN</td>\n",
       "      <td>110563242018426632956</td>\n",
       "      <td>Rocky Kev</td>\n",
       "      <td>2012-06-04 12:22:25.578</td>\n",
       "      <td>I usually give them a call before I stop by to...</td>\n",
       "    </tr>\n",
       "    <tr>\n",
       "      <th>3</th>\n",
       "      <td>af853df6-9aa0-430d-acd6-59f553faa47e</td>\n",
       "      <td>0x89c6c63c8cd87141:0x54d0d283872eecbb</td>\n",
       "      <td>5</td>\n",
       "      <td>NaN</td>\n",
       "      <td>112895973505401399406</td>\n",
       "      <td>Josep Valls</td>\n",
       "      <td>2013-03-14 14:35:10.554</td>\n",
       "      <td>My bike had been sitting outdoors for a good w...</td>\n",
       "    </tr>\n",
       "    <tr>\n",
       "      <th>4</th>\n",
       "      <td>0cf4a38f-88ad-4c69-b0c9-e42016962934</td>\n",
       "      <td>0x89c6c63c8cd87141:0x54d0d283872eecbb</td>\n",
       "      <td>5</td>\n",
       "      <td>NaN</td>\n",
       "      <td>110619674885963828884</td>\n",
       "      <td>Timaree Schmit</td>\n",
       "      <td>2019-01-29 16:45:29.760</td>\n",
       "      <td>Always an easy experience. Service is knowledg...</td>\n",
       "    </tr>\n",
       "  </tbody>\n",
       "</table>\n",
       "</div>"
      ],
      "text/plain": [
       "                              review_id  \\\n",
       "0  b05994c1-edfd-4375-b9c8-1aa60f929eb0   \n",
       "1  e0cbc10b-18d9-48ba-8383-f1e99b34c51c   \n",
       "2  35a2f2a7-148a-49e2-930c-7cf9367d8c91   \n",
       "3  af853df6-9aa0-430d-acd6-59f553faa47e   \n",
       "4  0cf4a38f-88ad-4c69-b0c9-e42016962934   \n",
       "\n",
       "                                 gmap_id  rating pics                user_id  \\\n",
       "0  0x89c6c63c8cd87141:0x54d0d283872eecbb       5  NaN  104944742559079759337   \n",
       "1  0x89c6c63c8cd87141:0x54d0d283872eecbb       5  NaN  117609702832980320437   \n",
       "2  0x89c6c63c8cd87141:0x54d0d283872eecbb       5  NaN  110563242018426632956   \n",
       "3  0x89c6c63c8cd87141:0x54d0d283872eecbb       5  NaN  112895973505401399406   \n",
       "4  0x89c6c63c8cd87141:0x54d0d283872eecbb       5  NaN  110619674885963828884   \n",
       "\n",
       "                name                     time  \\\n",
       "0    Jaron Whitfield  2018-02-04 03:09:22.839   \n",
       "1  Jonathan McCarthy  2016-10-12 08:44:51.163   \n",
       "2          Rocky Kev  2012-06-04 12:22:25.578   \n",
       "3        Josep Valls  2013-03-14 14:35:10.554   \n",
       "4     Timaree Schmit  2019-01-29 16:45:29.760   \n",
       "\n",
       "                                                text  \n",
       "0  Joe is quite unique of his line of work, he as...  \n",
       "1  For such a small place their impact on my life...  \n",
       "2  I usually give them a call before I stop by to...  \n",
       "3  My bike had been sitting outdoors for a good w...  \n",
       "4  Always an easy experience. Service is knowledg...  "
      ]
     },
     "execution_count": 18,
     "metadata": {},
     "output_type": "execute_result"
    }
   ],
   "source": [
    "reviews_df.head()"
   ]
  },
  {
   "cell_type": "code",
   "execution_count": 19,
   "metadata": {},
   "outputs": [
    {
     "data": {
      "text/html": [
       "<div>\n",
       "<style scoped>\n",
       "    .dataframe tbody tr th:only-of-type {\n",
       "        vertical-align: middle;\n",
       "    }\n",
       "\n",
       "    .dataframe tbody tr th {\n",
       "        vertical-align: top;\n",
       "    }\n",
       "\n",
       "    .dataframe thead th {\n",
       "        text-align: right;\n",
       "    }\n",
       "</style>\n",
       "<table border=\"1\" class=\"dataframe\">\n",
       "  <thead>\n",
       "    <tr style=\"text-align: right;\">\n",
       "      <th></th>\n",
       "      <th>rating</th>\n",
       "    </tr>\n",
       "  </thead>\n",
       "  <tbody>\n",
       "    <tr>\n",
       "      <th>count</th>\n",
       "      <td>1.277236e+07</td>\n",
       "    </tr>\n",
       "    <tr>\n",
       "      <th>mean</th>\n",
       "      <td>4.293200e+00</td>\n",
       "    </tr>\n",
       "    <tr>\n",
       "      <th>std</th>\n",
       "      <td>1.062594e+00</td>\n",
       "    </tr>\n",
       "    <tr>\n",
       "      <th>min</th>\n",
       "      <td>1.000000e+00</td>\n",
       "    </tr>\n",
       "    <tr>\n",
       "      <th>25%</th>\n",
       "      <td>4.000000e+00</td>\n",
       "    </tr>\n",
       "    <tr>\n",
       "      <th>50%</th>\n",
       "      <td>5.000000e+00</td>\n",
       "    </tr>\n",
       "    <tr>\n",
       "      <th>75%</th>\n",
       "      <td>5.000000e+00</td>\n",
       "    </tr>\n",
       "    <tr>\n",
       "      <th>max</th>\n",
       "      <td>5.000000e+00</td>\n",
       "    </tr>\n",
       "  </tbody>\n",
       "</table>\n",
       "</div>"
      ],
      "text/plain": [
       "             rating\n",
       "count  1.277236e+07\n",
       "mean   4.293200e+00\n",
       "std    1.062594e+00\n",
       "min    1.000000e+00\n",
       "25%    4.000000e+00\n",
       "50%    5.000000e+00\n",
       "75%    5.000000e+00\n",
       "max    5.000000e+00"
      ]
     },
     "execution_count": 19,
     "metadata": {},
     "output_type": "execute_result"
    }
   ],
   "source": [
    "reviews_df.describe()"
   ]
  },
  {
   "cell_type": "markdown",
   "metadata": {},
   "source": [
    "Make sure that we don't include any records that have both text and pics null <br>\n",
    "\n",
    "Filter based on desired criteria"
   ]
  },
  {
   "cell_type": "code",
   "execution_count": 20,
   "metadata": {},
   "outputs": [],
   "source": [
    "filtered_reviews_df = reviews_df[(reviews_df['pics'].notna()) | (reviews_df['text'].notna())]"
   ]
  },
  {
   "cell_type": "code",
   "execution_count": 21,
   "metadata": {},
   "outputs": [],
   "source": [
    "filtered_null = reviews_df[(reviews_df['pics'].isna()) & (reviews_df['text'].isna())]"
   ]
  },
  {
   "cell_type": "code",
   "execution_count": 22,
   "metadata": {},
   "outputs": [
    {
     "name": "stdout",
     "output_type": "stream",
     "text": [
      "5936425\n"
     ]
    }
   ],
   "source": [
    "print(len(filtered_null))"
   ]
  },
  {
   "cell_type": "code",
   "execution_count": 23,
   "metadata": {},
   "outputs": [
    {
     "name": "stdout",
     "output_type": "stream",
     "text": [
      "6835933\n"
     ]
    }
   ],
   "source": [
    "print(len(filtered_reviews_df))"
   ]
  },
  {
   "cell_type": "markdown",
   "metadata": {},
   "source": [
    "In theory should add up to the length of the total dataset so we know we've done our process correct:"
   ]
  },
  {
   "cell_type": "code",
   "execution_count": 24,
   "metadata": {},
   "outputs": [
    {
     "name": "stdout",
     "output_type": "stream",
     "text": [
      "The total reviews: \n",
      "12772358\n",
      "The total reviews between the null and not null: \n",
      "12772358\n",
      "Difference: \n",
      "0\n"
     ]
    }
   ],
   "source": [
    "total_reviews = len(reviews_df)\n",
    "total_added = len(filtered_reviews_df) + len(filtered_null)\n",
    "\n",
    "print(\"The total reviews: \")\n",
    "print(total_reviews)\n",
    "\n",
    "print(\"The total reviews between the null and not null: \")\n",
    "print(total_added)\n",
    "\n",
    "print(\"Difference: \")\n",
    "print(total_reviews - total_added)"
   ]
  },
  {
   "cell_type": "code",
   "execution_count": 25,
   "metadata": {},
   "outputs": [
    {
     "data": {
      "text/html": [
       "<div>\n",
       "<style scoped>\n",
       "    .dataframe tbody tr th:only-of-type {\n",
       "        vertical-align: middle;\n",
       "    }\n",
       "\n",
       "    .dataframe tbody tr th {\n",
       "        vertical-align: top;\n",
       "    }\n",
       "\n",
       "    .dataframe thead th {\n",
       "        text-align: right;\n",
       "    }\n",
       "</style>\n",
       "<table border=\"1\" class=\"dataframe\">\n",
       "  <thead>\n",
       "    <tr style=\"text-align: right;\">\n",
       "      <th></th>\n",
       "      <th>rating</th>\n",
       "    </tr>\n",
       "  </thead>\n",
       "  <tbody>\n",
       "    <tr>\n",
       "      <th>count</th>\n",
       "      <td>6.835933e+06</td>\n",
       "    </tr>\n",
       "    <tr>\n",
       "      <th>mean</th>\n",
       "      <td>4.277457e+00</td>\n",
       "    </tr>\n",
       "    <tr>\n",
       "      <th>std</th>\n",
       "      <td>1.140362e+00</td>\n",
       "    </tr>\n",
       "    <tr>\n",
       "      <th>min</th>\n",
       "      <td>1.000000e+00</td>\n",
       "    </tr>\n",
       "    <tr>\n",
       "      <th>25%</th>\n",
       "      <td>4.000000e+00</td>\n",
       "    </tr>\n",
       "    <tr>\n",
       "      <th>50%</th>\n",
       "      <td>5.000000e+00</td>\n",
       "    </tr>\n",
       "    <tr>\n",
       "      <th>75%</th>\n",
       "      <td>5.000000e+00</td>\n",
       "    </tr>\n",
       "    <tr>\n",
       "      <th>max</th>\n",
       "      <td>5.000000e+00</td>\n",
       "    </tr>\n",
       "  </tbody>\n",
       "</table>\n",
       "</div>"
      ],
      "text/plain": [
       "             rating\n",
       "count  6.835933e+06\n",
       "mean   4.277457e+00\n",
       "std    1.140362e+00\n",
       "min    1.000000e+00\n",
       "25%    4.000000e+00\n",
       "50%    5.000000e+00\n",
       "75%    5.000000e+00\n",
       "max    5.000000e+00"
      ]
     },
     "execution_count": 25,
     "metadata": {},
     "output_type": "execute_result"
    }
   ],
   "source": [
    "filtered_reviews_df.describe()"
   ]
  },
  {
   "cell_type": "code",
   "execution_count": 28,
   "metadata": {},
   "outputs": [],
   "source": [
    "filtered_reviews_df.to_csv('./data/ingested/reviews_filtered.csv', index=False, escapechar='\\\\')"
   ]
  },
  {
   "cell_type": "code",
   "execution_count": 27,
   "metadata": {},
   "outputs": [],
   "source": [
    "import ast\n",
    "def extract_pic_urls(row): \n",
    "    if pd.notna(row['pics']): \n",
    "        try:\n",
    "            pics_list = ast.literal_eval(row['pics'])\n",
    "            return [{'review_id':row['review_id'], 'pic_url': url} for pic_dict in pics_list for url in pic_dict.get('url',[])]\n",
    "        except Exception as e: \n",
    "            print(e)\n",
    "            return [{'review_id': row['review_id'], 'pic_url': None}]\n",
    "    else: \n",
    "        return [{'review_id': row['review_id'], 'pic_url': None}]"
   ]
  },
  {
   "cell_type": "code",
   "execution_count": 29,
   "metadata": {},
   "outputs": [],
   "source": [
    "pics_df = pd.DataFrame([item for sublist in filtered_reviews_df.apply(extract_pic_urls, axis=1) for item in sublist])"
   ]
  },
  {
   "cell_type": "code",
   "execution_count": 30,
   "metadata": {},
   "outputs": [],
   "source": [
    "pics_df.to_csv('./data/ingested/pics.csv', index=False, escapechar='\\\\')"
   ]
  }
 ],
 "metadata": {
  "kernelspec": {
   "display_name": "Python 3",
   "language": "python",
   "name": "python3"
  },
  "language_info": {
   "codemirror_mode": {
    "name": "ipython",
    "version": 3
   },
   "file_extension": ".py",
   "mimetype": "text/x-python",
   "name": "python",
   "nbconvert_exporter": "python",
   "pygments_lexer": "ipython3",
   "version": "3.10.0"
  }
 },
 "nbformat": 4,
 "nbformat_minor": 2
}
